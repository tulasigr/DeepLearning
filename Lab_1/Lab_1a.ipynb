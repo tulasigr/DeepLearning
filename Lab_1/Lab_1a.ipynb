{
 "cells": [
  {
   "cell_type": "code",
   "execution_count": 1,
   "id": "29c4f060-2800-4ddb-83d7-5107292fb58d",
   "metadata": {},
   "outputs": [
    {
     "name": "stdin",
     "output_type": "stream",
     "text": [
      "Enter student number:  181\n",
      "Enter tutorial mark:  70\n",
      "Enter test mark:  90\n",
      "Enter end term examination mark:  80\n"
     ]
    },
    {
     "name": "stdout",
     "output_type": "stream",
     "text": [
      "Final Grade for student 181: A\n"
     ]
    }
   ],
   "source": [
    "# Step 1: Ask for student number\n",
    "student_number = input(\"Enter student number: \")\n",
    "\n",
    "# Step 2: Ask for tutorial mark\n",
    "tutorial_mark = float(input(\"Enter tutorial mark: \"))\n",
    "\n",
    "# Step 3: Ask for test mark\n",
    "test_mark = float(input(\"Enter test mark: \"))\n",
    "\n",
    "# Step 4: Calculate whether the student can write the examination\n",
    "average_mark = (tutorial_mark + test_mark) / 2\n",
    "if average_mark < 40:\n",
    "    print(\"Average is below 40%. Student gets an F grade.\")\n",
    "else:\n",
    "    # Step 5: Ask for end term examination mark\n",
    "    exam_mark = float(input(\"Enter end term examination mark: \"))\n",
    "\n",
    "    # Step 6: Calculate final mark\n",
    "    final_mark = 0.25 * tutorial_mark + 0.25 * test_mark + 0.5 * exam_mark\n",
    "\n",
    "    # Step 7: Determine and print the final grade\n",
    "    if 80 <= final_mark <= 100:\n",
    "        print(f\"Final Grade for student {student_number}: A\")\n",
    "    elif 70 <= final_mark < 80:\n",
    "        print(f\"Final Grade for student {student_number}: B\")\n",
    "    elif 60 <= final_mark < 70:\n",
    "        print(f\"Final Grade for student {student_number}: C\")\n",
    "    elif 50 <= final_mark < 60:\n",
    "        print(f\"Final Grade for student {student_number}: D\")\n",
    "    else:\n",
    "        print(f\"Final Grade for student {student_number}: E\")\n"
   ]
  },
  {
   "cell_type": "code",
   "execution_count": null,
   "id": "a66c0fef-60d1-4de8-b0db-00c9dbca903f",
   "metadata": {},
   "outputs": [],
   "source": []
  }
 ],
 "metadata": {
  "kernelspec": {
   "display_name": "Python 3 (ipykernel)",
   "language": "python",
   "name": "python3"
  },
  "language_info": {
   "codemirror_mode": {
    "name": "ipython",
    "version": 3
   },
   "file_extension": ".py",
   "mimetype": "text/x-python",
   "name": "python",
   "nbconvert_exporter": "python",
   "pygments_lexer": "ipython3",
   "version": "3.12.4"
  }
 },
 "nbformat": 4,
 "nbformat_minor": 5
}
